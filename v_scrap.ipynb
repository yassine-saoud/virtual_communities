{
 "cells": [
  {
   "cell_type": "code",
   "execution_count": 1,
   "metadata": {},
   "outputs": [],
   "source": [
    "from selenium import webdriver\n",
    "from webdriver_manager.chrome import ChromeDriverManager\n",
    "import undetected_chromedriver as uc\n",
    "from time import sleep\n",
    "from selenium.webdriver.common.keys import Keys\n",
    "import pandas as pd\n",
    "from selenium.webdriver.common.by import By\n",
    "from tqdm import tqdm"
   ]
  },
  {
   "cell_type": "markdown",
   "metadata": {},
   "source": [
    "chargement de la page youtube + pas de détection comme étant rebot"
   ]
  },
  {
   "cell_type": "code",
   "execution_count": 6,
   "metadata": {},
   "outputs": [],
   "source": [
    "if __name__ == \"__main__\":\n",
    "    options = webdriver.ChromeOptions()\n",
    "    options.add_argument('proxy-server=106.122.8.54:3128')\n",
    "    options.add_argument('user-data-dir=other')\n",
    "    browser = uc.Chrome(\n",
    "        options=options,\n",
    "    )\n",
    "    browser.get(\"https://www.youtube.com\")\n",
    "    sleep(2)   \n",
    "    browser.maximize_window()\n",
    "    browser.execute_script(\"document.body.style.zoom='50%'\")"
   ]
  },
  {
   "cell_type": "markdown",
   "metadata": {},
   "source": [
    "la fonction scroll"
   ]
  },
  {
   "cell_type": "code",
   "execution_count": 2,
   "metadata": {},
   "outputs": [],
   "source": [
    "def scroll():\n",
    "    while(True):\n",
    "        height = browser.execute_script(\"return document.body.scrollHeight\")\n",
    "        sleep(1)\n",
    "        browser.find_element_by_tag_name('body').send_keys(Keys.END)\n",
    "        if int(height)==0:\n",
    "            break"
   ]
  },
  {
   "cell_type": "code",
   "execution_count": 21,
   "metadata": {},
   "outputs": [
    {
     "data": {
      "text/plain": [
       "162"
      ]
     },
     "execution_count": 21,
     "metadata": {},
     "output_type": "execute_result"
    }
   ],
   "source": [
    "with open ('pfa_links.txt','r') as f :\n",
    "     videos_list = f.readlines()\n",
    "len(videos_list)"
   ]
  },
  {
   "cell_type": "code",
   "execution_count": 22,
   "metadata": {},
   "outputs": [
    {
     "data": {
      "text/html": [
       "<div>\n",
       "<style scoped>\n",
       "    .dataframe tbody tr th:only-of-type {\n",
       "        vertical-align: middle;\n",
       "    }\n",
       "\n",
       "    .dataframe tbody tr th {\n",
       "        vertical-align: top;\n",
       "    }\n",
       "\n",
       "    .dataframe thead th {\n",
       "        text-align: right;\n",
       "    }\n",
       "</style>\n",
       "<table border=\"1\" class=\"dataframe\">\n",
       "  <thead>\n",
       "    <tr style=\"text-align: right;\">\n",
       "      <th></th>\n",
       "      <th>author</th>\n",
       "      <th>comment</th>\n",
       "    </tr>\n",
       "  </thead>\n",
       "  <tbody>\n",
       "  </tbody>\n",
       "</table>\n",
       "</div>"
      ],
      "text/plain": [
       "Empty DataFrame\n",
       "Columns: [author, comment]\n",
       "Index: []"
      ]
     },
     "execution_count": 22,
     "metadata": {},
     "output_type": "execute_result"
    }
   ],
   "source": [
    "# df_final= pd.read_csv('final.csv',index_col=0)\n",
    "df_final = pd.DataFrame(columns=['author','comment'])\n",
    "df_final"
   ]
  },
  {
   "cell_type": "markdown",
   "metadata": {},
   "source": [
    "for each video in the list we have to repeat scrolling till the end to collect all comments"
   ]
  },
  {
   "cell_type": "code",
   "execution_count": null,
   "metadata": {},
   "outputs": [],
   "source": [
    "for link in tqdm(videos_list) :\n",
    "    browser.get(link)\n",
    "    sleep(2)\n",
    "    browser.execute_script('videos = document.querySelectorAll(\"video\"); for(video of videos) {video.pause()}')\n",
    "    title = browser.find_elements(by=By.XPATH, value='//h1/yt-formatted-string')[0].text\n",
    "    youtuber = browser.find_element(by=By.XPATH, value='//div[@id=\"owner\"]//div[@id=\"text-container\"]//a').text\n",
    "\n",
    "    last_position = browser.execute_script(\"return window.pageYOffset ;\")\n",
    "    while True:\n",
    "        fin = True\n",
    "        for i in range(3):\n",
    "            scroll()\n",
    "            sleep(2)\n",
    "            curr_position = browser.execute_script(\"return window.pageYOffset ;\")\n",
    "            if (curr_position!=last_position):\n",
    "                fin = False\n",
    "                break\n",
    "        if fin  :\n",
    "            l = browser.find_elements(by=By.XPATH, value='//div[@id=\"contents\"]/ytd-comment-thread-renderer//yt-formatted-string[@id=\"content-text\"]')\n",
    "            m = browser.find_elements(by=By.XPATH, value='//a[@id=\"author-text\"]/span')\n",
    "            authors = [n.text for n in m]\n",
    "            comments = [p.text for p in l]\n",
    "            break\n",
    "        else: last_position = curr_position\n",
    "    authors.insert(0,youtuber)\n",
    "    comments.insert(0,title)\n",
    "    \n",
    "    df=pd.DataFrame({\"author\":authors , \"comment\":comments})\n",
    "    df[\"author\"] =df['author'].apply(lambda x: None if x == '' else x)\n",
    "    df[\"comment\"] =df['comment'].apply(lambda x: None if x == '' else x)\n",
    "\n",
    "    df_final=pd.concat([df_final,df],axis=0).reset_index(drop=True)"
   ]
  },
  {
   "cell_type": "code",
   "execution_count": 25,
   "metadata": {},
   "outputs": [
    {
     "name": "stdout",
     "output_type": "stream",
     "text": [
      "<class 'pandas.core.frame.DataFrame'>\n",
      "Int64Index: 150573 entries, 0 to 150572\n",
      "Data columns (total 2 columns):\n",
      " #   Column   Non-Null Count   Dtype \n",
      "---  ------   --------------   ----- \n",
      " 0   author   150081 non-null  object\n",
      " 1   comment  149566 non-null  object\n",
      "dtypes: object(2)\n",
      "memory usage: 3.4+ MB\n"
     ]
    }
   ],
   "source": [
    "df_final.info()"
   ]
  },
  {
   "cell_type": "code",
   "execution_count": 26,
   "metadata": {},
   "outputs": [
    {
     "data": {
      "text/html": [
       "<div>\n",
       "<style scoped>\n",
       "    .dataframe tbody tr th:only-of-type {\n",
       "        vertical-align: middle;\n",
       "    }\n",
       "\n",
       "    .dataframe tbody tr th {\n",
       "        vertical-align: top;\n",
       "    }\n",
       "\n",
       "    .dataframe thead th {\n",
       "        text-align: right;\n",
       "    }\n",
       "</style>\n",
       "<table border=\"1\" class=\"dataframe\">\n",
       "  <thead>\n",
       "    <tr style=\"text-align: right;\">\n",
       "      <th></th>\n",
       "      <th>author</th>\n",
       "      <th>comment</th>\n",
       "    </tr>\n",
       "  </thead>\n",
       "  <tbody>\n",
       "    <tr>\n",
       "      <th>0</th>\n",
       "      <td>Dr. Eric Berg DC</td>\n",
       "      <td>How Your Feet Are Warning You About Your Liver...</td>\n",
       "    </tr>\n",
       "    <tr>\n",
       "      <th>1</th>\n",
       "      <td>Rukhsana Begum</td>\n",
       "      <td>Someone actually teaching us about our health,...</td>\n",
       "    </tr>\n",
       "    <tr>\n",
       "      <th>2</th>\n",
       "      <td>Adel Qutob</td>\n",
       "      <td>3 months ago I watched the episode about intim...</td>\n",
       "    </tr>\n",
       "    <tr>\n",
       "      <th>3</th>\n",
       "      <td>Liz Zy</td>\n",
       "      <td>I wished every med doctor would spread this kn...</td>\n",
       "    </tr>\n",
       "    <tr>\n",
       "      <th>4</th>\n",
       "      <td>Galavanter</td>\n",
       "      <td>I was a truck driver 40lbs over weight.\\nFollo...</td>\n",
       "    </tr>\n",
       "  </tbody>\n",
       "</table>\n",
       "</div>"
      ],
      "text/plain": [
       "             author                                            comment\n",
       "0  Dr. Eric Berg DC  How Your Feet Are Warning You About Your Liver...\n",
       "1    Rukhsana Begum  Someone actually teaching us about our health,...\n",
       "2        Adel Qutob  3 months ago I watched the episode about intim...\n",
       "3            Liz Zy  I wished every med doctor would spread this kn...\n",
       "4        Galavanter  I was a truck driver 40lbs over weight.\\nFollo..."
      ]
     },
     "execution_count": 26,
     "metadata": {},
     "output_type": "execute_result"
    }
   ],
   "source": [
    "df_final.head()"
   ]
  },
  {
   "cell_type": "code",
   "execution_count": 27,
   "metadata": {},
   "outputs": [
    {
     "data": {
      "text/html": [
       "<div>\n",
       "<style scoped>\n",
       "    .dataframe tbody tr th:only-of-type {\n",
       "        vertical-align: middle;\n",
       "    }\n",
       "\n",
       "    .dataframe tbody tr th {\n",
       "        vertical-align: top;\n",
       "    }\n",
       "\n",
       "    .dataframe thead th {\n",
       "        text-align: right;\n",
       "    }\n",
       "</style>\n",
       "<table border=\"1\" class=\"dataframe\">\n",
       "  <thead>\n",
       "    <tr style=\"text-align: right;\">\n",
       "      <th></th>\n",
       "      <th>author</th>\n",
       "      <th>comment</th>\n",
       "    </tr>\n",
       "  </thead>\n",
       "  <tbody>\n",
       "    <tr>\n",
       "      <th>150568</th>\n",
       "      <td>John Amato</td>\n",
       "      <td>Adaptation. Not evolution. Evolution isnt a re...</td>\n",
       "    </tr>\n",
       "    <tr>\n",
       "      <th>150569</th>\n",
       "      <td>She’s Niki</td>\n",
       "      <td>It’s sad when you talk on the negative effects...</td>\n",
       "    </tr>\n",
       "    <tr>\n",
       "      <th>150570</th>\n",
       "      <td>Bossco</td>\n",
       "      <td>this guy look like he has been fasting for a  ...</td>\n",
       "    </tr>\n",
       "    <tr>\n",
       "      <th>150571</th>\n",
       "      <td>kricku</td>\n",
       "      <td>tl;dr\\nDead</td>\n",
       "    </tr>\n",
       "    <tr>\n",
       "      <th>150572</th>\n",
       "      <td>M TABARIK ASIF</td>\n",
       "      <td>I'm muslim and proud to say we fast for one mo...</td>\n",
       "    </tr>\n",
       "  </tbody>\n",
       "</table>\n",
       "</div>"
      ],
      "text/plain": [
       "                author                                            comment\n",
       "150568      John Amato  Adaptation. Not evolution. Evolution isnt a re...\n",
       "150569      She’s Niki  It’s sad when you talk on the negative effects...\n",
       "150570          Bossco  this guy look like he has been fasting for a  ...\n",
       "150571          kricku                                        tl;dr\\nDead\n",
       "150572  M TABARIK ASIF  I'm muslim and proud to say we fast for one mo..."
      ]
     },
     "execution_count": 27,
     "metadata": {},
     "output_type": "execute_result"
    }
   ],
   "source": [
    "df_final.tail()"
   ]
  },
  {
   "cell_type": "code",
   "execution_count": 16,
   "metadata": {},
   "outputs": [],
   "source": [
    "df_final.to_csv(\"final.csv\")"
   ]
  }
 ],
 "metadata": {
  "interpreter": {
   "hash": "bf18297ba29ab59974e3cde921359bf4732846305eb0ebd212cf3897d725727a"
  },
  "kernelspec": {
   "display_name": "Python 3.9.10 64-bit",
   "language": "python",
   "name": "python3"
  },
  "language_info": {
   "codemirror_mode": {
    "name": "ipython",
    "version": 3
   },
   "file_extension": ".py",
   "mimetype": "text/x-python",
   "name": "python",
   "nbconvert_exporter": "python",
   "pygments_lexer": "ipython3",
   "version": "3.9.10"
  },
  "orig_nbformat": 4
 },
 "nbformat": 4,
 "nbformat_minor": 2
}
